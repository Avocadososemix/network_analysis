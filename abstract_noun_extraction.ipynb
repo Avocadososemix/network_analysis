{
 "cells": [
  {
   "cell_type": "code",
   "execution_count": 32,
   "metadata": {},
   "outputs": [],
   "source": [
    "import numpy as np\n",
    "import pandas as pd\n",
    "import networkx as nx\n",
    "import matplotlib.pyplot as plt\n",
    "import os\n",
    "from textblob import TextBlob\n",
    "import itertools\n",
    "from random import choice"
   ]
  },
  {
   "cell_type": "code",
   "execution_count": 2,
   "metadata": {},
   "outputs": [
    {
     "data": {
      "text/plain": [
       "False"
      ]
     },
     "execution_count": 2,
     "metadata": {},
     "output_type": "execute_result"
    }
   ],
   "source": [
    "os.path.exists(\"D:\\\\graphs\\\\outputacm.txt\")"
   ]
  },
  {
   "cell_type": "code",
   "execution_count": 10,
   "metadata": {},
   "outputs": [
    {
     "data": {
      "text/plain": [
       "['629814\\n',\n",
       " '#*Automated Deduction in Geometry: 5th International Workshop, ADG 2004, Gainesville, FL, USA, September 16-18, 2004, Revised Papers (Lecture Notes in Computer ... / Lecture Notes in Artificial Intelligence)\\n',\n",
       " '#@Hoon Hong,Dongming Wang\\n',\n",
       " '#t2006\\n',\n",
       " '#c\\n',\n",
       " '#index0\\n',\n",
       " '\\n',\n",
       " '#*A+ Certification Core Hardware (Text & Lab Manual)\\n',\n",
       " '#@Charles J. Brooks\\n',\n",
       " '#t2003\\n',\n",
       " '#c\\n',\n",
       " '#index1\\n',\n",
       " '\\n',\n",
       " '#*Performance engineering in industry: current practices and adoption challenges\\n',\n",
       " '#@Ahmed E. Hassan,Parminder Flora\\n',\n",
       " '#t2007\\n',\n",
       " '#cProceedings of the 6th international workshop on Software and performance\\n',\n",
       " '#index2\\n',\n",
       " '#!This panel session discusses performance engineering practices in industry. Presentations in the session will explore the use of lightweight techniques and approaches in order to permit the cost effective and rapid adoption of performance modeling research by large industrial software systems.\\n',\n",
       " '\\n',\n",
       " '#*Dude, You Can Do It! How to Build a Sweeet PC\\n',\n",
       " '#@Darrel Creacy,Carlito Vicencio\\n',\n",
       " '#t2005\\n',\n",
       " '#c\\n',\n",
       " '#index3\\n',\n",
       " \"#!Whether you're frustrated with current PC offerings (and their inflated prices) or are simply looking for a cool project to take on, building a computer from the ground up using off-the-shelf parts can offer significant advantages. In these pages, computer dudes Darrel Wayne Creacy and Carlito Vicencio outline those advantages and then show you how to build the computer of your dreams. The pair begins by explaining what components make up a PC and what you need to think about when selecting those components, before helping you determine your needs and suggesting various configurations to fit those uses. Breaking the process down into its simplest terms, the authors provide component lists for a number of different PC setups: for students, home users, multimedia/home-theater enthusiasts, high-end graphic/video/audio producers, and more. Using plain language and plenty of visual and instructional aids--photos, illustrations, diagrams, step-by-step directions, and more--the authors ensure that even someone (like you!) who knows nothing about technology can build the perfect PC! On a more personal note, the authors are donating a percentage of their income from this book to the Breast Cancer Research Foundationï¾\\x96to thank all the women in their lives who have supported them and battled the disease. For more information about BCRF, please visit http://www.bcrfcure.org/.\\n\",\n",
       " '\\n',\n",
       " '#*What Every Programmer Needs to Know about Security (Advances in Information Security)\\n',\n",
       " '#@Neil Daswani,Anita Kesavan\\n',\n",
       " '#t2006\\n',\n",
       " '#c\\n',\n",
       " '#index4\\n',\n",
       " '\\n',\n",
       " '#*Interpreting Kullback-Leibler divergence with the Neyman-Pearson lemma\\n',\n",
       " '#@Shinto Eguchi,John Copas\\n',\n",
       " '#t2006\\n',\n",
       " '#cJournal of Multivariate Analysis\\n',\n",
       " '#index5\\n',\n",
       " '#%436405\\n',\n",
       " '#!Kullback-Leibler divergence and the Neyman-Pearson lemma are two fundamental concepts in statistics. Both are about likelihood ratios: Kullback-Leibler divergence is the expected log-likelihood ratio, and the Neyman-Pearson lemma is about error rates of likelihood ratio tests. Exploring this connection gives another statistical interpretation of the Kullback-Leibler divergence in terms of the loss of power of the likelihood ratio test when the wrong distribution is used for one of the hypotheses. In this interpretation, the standard non-negativity property of the Kullback-Leibler divergence is essentially a restatement of the optimal property of likelihood ratios established by the Neyman-Pearson lemma. The asymmetry of Kullback-Leibler divergence is overviewed in information geometry.\\n',\n",
       " '\\n',\n",
       " '#*Digital Media: Transformations in Human Communication\\n',\n",
       " '#@Lee Humphreys,Paul Messaris\\n',\n",
       " '#t2006\\n',\n",
       " '#c\\n',\n",
       " '#index6\\n',\n",
       " '\\n',\n",
       " '#*TOPP---the OpenMS proteomics pipeline\\n',\n",
       " '#@Oliver Kohlbacher,Knut Reinert,Clemens Gröpl,Eva Lange,Nico Pfeifer,Ole Schulz-Trieglaff,Marc Sturm\\n',\n",
       " '#t2007\\n',\n",
       " '#cBioinformatics\\n',\n",
       " '#index7\\n',\n",
       " \"#!Motivation: Experimental techniques in proteomics have seen rapid development over the last few years. Volume and complexity of the data have both been growing at a similar rate. Accordingly, data management and analysis are one of the major challenges in proteomics. Flexible algorithms are required to handle changing experimental setups and to assist in developing and validating new methods. In order to facilitate these studies, it would be desirable to have a flexible 'toolbox' of versatile and user-friendly applications allowing for rapid construction of computational workflows in proteomics. Results: We describe a set of tools for proteomics data analysis---TOPP, The OpenMS Proteomics Pipeline. TOPP provides a set of computational tools which can be easily combined into analysis pipelines even by non-experts and can be used in proteomics workflows. These applications range from useful utilities (file format conversion, peak picking) over wrapper applications for known applications (e.g. Mascot) to completely new algorithmic techniques for data reduction and data analysis. We anticipate that TOPP will greatly facilitate rapid prototyping of proteomics data evaluation pipelines. As such, we describe the basic concepts and the current abilities of TOPP and illustrate these concepts in the context of two example applications: the identification of peptides from a raw dataset through database search and the complex analysis of a standard addition experiment for the absolute quantitation of biomarkers. The latter example demonstrates TOPP's ability to construct flexible analysis pipelines in support of complex experimental setups. Availability: The TOPP components are available as open-source software under the lesser GNU public license (LGPL). Source code is available from the project website at www.OpenMS.de Contact: oliver.kohlbacher@uni-tuebingen.de\\n\",\n",
       " '\\n',\n",
       " '#*Type Graphics and MacIntosh\\n',\n",
       " '#@John Blaint\\n',\n",
       " '#t1987\\n',\n",
       " '#c\\n',\n",
       " '#index8\\n',\n",
       " '\\n',\n",
       " '#*Adaptive Hypermedia and Adaptive Web-Based Systems: 4th International Conference, AH 2006, Dublin, Ireland, June 21-23, 2006, Proceedings (Lecture Notes in Computer Science)\\n',\n",
       " '#@Vincent Wade,Helen Ashman,Barry Smyth\\n',\n",
       " '#t2006\\n',\n",
       " '#c\\n',\n",
       " '#index9\\n',\n",
       " '\\n',\n",
       " '#*Dependable Computing: Second Latin-American Symposium, LADC 2005, Salvador, Brazil, October 25-28, 2005, Proceedings (Lecture Notes in Computer Science)\\n',\n",
       " '#@Carlos Alberto Maziero,João Gabriel Silva,Aline Maria Santos Andrade,Flávio Morais de Assis Silva\\n',\n",
       " '#t2005\\n',\n",
       " '#c\\n',\n",
       " '#index10\\n',\n",
       " '\\n',\n",
       " '#*Calculus Early Transcendentals Single Variable\\n',\n",
       " '#@Howard A. Anton\\n',\n",
       " '#t2006\\n',\n",
       " '#c\\n',\n",
       " '#index11\\n',\n",
       " '\\n',\n",
       " '#*Webbots, Spiders, and Screen Scrapers\\n',\n",
       " '#@Michael Schrenk,Michael Shrenk\\n',\n",
       " '#t2007\\n',\n",
       " '#c\\n',\n",
       " '#index12\\n',\n",
       " \"#!The Internet is bigger and better than what a mere browser allows. Webbots, Spiders, and Screen Scrapers is for programmers and businesspeople who want to take full advantage of the vast resources available on the Web. There's no reason to let browsers limit your online experience-especially when you can easily automate online tasks to suit your individual needs. Learn how to write webbots and spiders that do all this and more: Programmatically download entire websites Effectively parse data from web pages Manage cookies Decode encrypted files Automate form submissions Send and receive email Send SMS alerts to your cell phone Unlock password-protected websites Automatically bid in online auctions Exchange data with FTP and NNTP servers Sample projects using standard code libraries reinforce these new skills. You'll learn how to create your own webbots and spiders that track online prices, aggregate different data sources into a single web page, and archive the online data you just can't live without. You'll learn inside information from an experienced webbot developer on how and when to write stealthy webbots that mimic human behavior, tips for developing fault-tolerant designs, and various methods for launching and scheduling webbots. You'll also get advice on how to write webbots and spiders that respect website owner property rights, plus techniques for shielding websites from unwanted robots. As a bonus, visit the author's website to test your webbots on sample target pages, and to download the scripts and code libraries used in the book. Some tasks are just too tedious-or too important!- to leave to humans. Once you've automated your online life, you'll never let a browser limit the way you use the Internet again.\\n\",\n",
       " '\\n',\n",
       " '#*Fast k-NN Classification Rule Using Metrics on Space-Filling Curves\\n',\n",
       " '#@E. Skubalska-Rafajtowicz,A. Krzyzak\\n',\n",
       " '#t1996\\n',\n",
       " '#cProceedings of the 13th International Conference on Pattern Recognition - Volume 2\\n',\n",
       " '#index13\\n',\n",
       " '\\n',\n",
       " '#*Making the Digital City: The Early Shaping of Urban Internet Space (Design & the Built Environment S.)\\n',\n",
       " '#@Alessandro Aurigi\\n',\n",
       " '#t2005\\n',\n",
       " '#c\\n',\n",
       " '#index14\\n',\n",
       " '\\n',\n",
       " '#*Linspire 5.0: The No Nonsense Guide! (No Nonsense Guide! series)\\n',\n",
       " '#@Eric Grebler\\n',\n",
       " '#t2005\\n']"
      ]
     },
     "execution_count": 10,
     "metadata": {},
     "output_type": "execute_result"
    }
   ],
   "source": [
    "lauri_path = \"outputacm.txt\"\n",
    "test = open(lauri_path, 'r',  encoding=\"utf8\") \n",
    "test.readlines()[0:100]"
   ]
  },
  {
   "cell_type": "code",
   "execution_count": 9,
   "metadata": {},
   "outputs": [],
   "source": [
    "G = nx.DiGraph()"
   ]
  },
  {
   "cell_type": "code",
   "execution_count": 11,
   "metadata": {},
   "outputs": [],
   "source": [
    "def create_graph(reference):\n",
    "    G.add_node(reference['index']) # add node\n",
    "    G.add_node(reference['index'], title=reference['title']) # add title attribute to node\n",
    "    G.add_node(reference['index'], journal=reference['journal']) # add journal attribute to node\n",
    "    if 'abstract' in reference:\n",
    "        G.add_node(reference['index'], abstract=reference['abstract']) # add abstract attribute to node\n",
    "    else:\n",
    "        G.add_node(reference['index'], abstract=\"\")\n",
    "    for citation in reference['citations']:\n",
    "        G.add_edge(reference['index'], citation) # add edge to node"
   ]
  },
  {
   "cell_type": "code",
   "execution_count": 12,
   "metadata": {},
   "outputs": [],
   "source": [
    "def parse_data():\n",
    "    with open(lauri_path, 'r',  encoding=\"utf8\") as f:\n",
    "        reference={}\n",
    "        citations=[]\n",
    "        readFile = f.readlines()\n",
    "        for line in readFile:\n",
    "            \n",
    "            if '#*' in line: # article title\n",
    "                if (bool(reference)):\n",
    "                    reference['citations'] = citations\n",
    "                    citations=[]\n",
    "                    create_graph(reference)\n",
    "                    try:\n",
    "                        yield reference\n",
    "                    except IndexError as e:\n",
    "                        continue\n",
    "                    reference={}\n",
    "                reference['title'] = line[2:].rstrip()\n",
    "            elif '#@' in line: # authors\n",
    "                reference['author'] = line[2:].rstrip().rsplit(\";\")\n",
    "            elif '#t' in line: # year published\n",
    "                reference['year'] = line[2:].rstrip()\n",
    "            elif '#c' in line: # journal\n",
    "                reference['journal'] = line[2:].rstrip()\n",
    "            elif '#index' in line: # index\n",
    "                reference['index'] = line[6:].rstrip()\n",
    "            elif '#%' in line: # id of cited paper\n",
    "                citations.append(line[2:].rstrip())\n",
    "            elif '#!' in line: # abstract\n",
    "                reference['abstract'] = line[2:].rstrip()\n",
    "                if (bool(reference)):\n",
    "                    reference['citations'] = citations\n",
    "                    citations=[]\n",
    "                    create_graph(reference)\n",
    "                    try:\n",
    "                        yield reference\n",
    "                    except IndexError as e:\n",
    "                        continue\n",
    "        create_graph(reference)\n",
    "        return reference"
   ]
  },
  {
   "cell_type": "code",
   "execution_count": 13,
   "metadata": {},
   "outputs": [],
   "source": [
    "data = pd.DataFrame(parse_data(), columns =('index', 'title', 'author',\n",
    "                                            'year', 'journal', 'citations', 'abstract'))"
   ]
  },
  {
   "cell_type": "code",
   "execution_count": 14,
   "metadata": {},
   "outputs": [
    {
     "name": "stdout",
     "output_type": "stream",
     "text": [
      "629814 nodes\n",
      "632751 edges\n"
     ]
    }
   ],
   "source": [
    "print(G.number_of_nodes(), 'nodes')\n",
    "print(G.size(), 'edges')"
   ]
  },
  {
   "cell_type": "code",
   "execution_count": 31,
   "metadata": {},
   "outputs": [
    {
     "data": {
      "text/html": [
       "<div>\n",
       "<style scoped>\n",
       "    .dataframe tbody tr th:only-of-type {\n",
       "        vertical-align: middle;\n",
       "    }\n",
       "\n",
       "    .dataframe tbody tr th {\n",
       "        vertical-align: top;\n",
       "    }\n",
       "\n",
       "    .dataframe thead th {\n",
       "        text-align: right;\n",
       "    }\n",
       "</style>\n",
       "<table border=\"1\" class=\"dataframe\">\n",
       "  <thead>\n",
       "    <tr style=\"text-align: right;\">\n",
       "      <th></th>\n",
       "      <th>index</th>\n",
       "      <th>title</th>\n",
       "      <th>author</th>\n",
       "      <th>year</th>\n",
       "      <th>journal</th>\n",
       "      <th>citations</th>\n",
       "      <th>abstract</th>\n",
       "    </tr>\n",
       "  </thead>\n",
       "  <tbody>\n",
       "    <tr>\n",
       "      <td>0</td>\n",
       "      <td>0</td>\n",
       "      <td>Automated Deduction in Geometry: 5th Internati...</td>\n",
       "      <td>[Hoon Hong,Dongming Wang]</td>\n",
       "      <td>2006</td>\n",
       "      <td></td>\n",
       "      <td>[]</td>\n",
       "      <td>NaN</td>\n",
       "    </tr>\n",
       "    <tr>\n",
       "      <td>1</td>\n",
       "      <td>1</td>\n",
       "      <td>A+ Certification Core Hardware (Text &amp; Lab Man...</td>\n",
       "      <td>[Charles J. Brooks]</td>\n",
       "      <td>2003</td>\n",
       "      <td></td>\n",
       "      <td>[]</td>\n",
       "      <td>NaN</td>\n",
       "    </tr>\n",
       "    <tr>\n",
       "      <td>2</td>\n",
       "      <td>2</td>\n",
       "      <td>Performance engineering in industry: current p...</td>\n",
       "      <td>[Ahmed E. Hassan,Parminder Flora]</td>\n",
       "      <td>2007</td>\n",
       "      <td>Proceedings of the 6th international workshop ...</td>\n",
       "      <td>[]</td>\n",
       "      <td>This panel session discusses performance engin...</td>\n",
       "    </tr>\n",
       "    <tr>\n",
       "      <td>3</td>\n",
       "      <td>2</td>\n",
       "      <td>Performance engineering in industry: current p...</td>\n",
       "      <td>[Ahmed E. Hassan,Parminder Flora]</td>\n",
       "      <td>2007</td>\n",
       "      <td>Proceedings of the 6th international workshop ...</td>\n",
       "      <td>[]</td>\n",
       "      <td>This panel session discusses performance engin...</td>\n",
       "    </tr>\n",
       "    <tr>\n",
       "      <td>4</td>\n",
       "      <td>3</td>\n",
       "      <td>Dude, You Can Do It! How to Build a Sweeet PC</td>\n",
       "      <td>[Darrel Creacy,Carlito Vicencio]</td>\n",
       "      <td>2005</td>\n",
       "      <td></td>\n",
       "      <td>[]</td>\n",
       "      <td>Whether you're frustrated with current PC offe...</td>\n",
       "    </tr>\n",
       "  </tbody>\n",
       "</table>\n",
       "</div>"
      ],
      "text/plain": [
       "  index                                              title  \\\n",
       "0     0  Automated Deduction in Geometry: 5th Internati...   \n",
       "1     1  A+ Certification Core Hardware (Text & Lab Man...   \n",
       "2     2  Performance engineering in industry: current p...   \n",
       "3     2  Performance engineering in industry: current p...   \n",
       "4     3      Dude, You Can Do It! How to Build a Sweeet PC   \n",
       "\n",
       "                              author  year  \\\n",
       "0          [Hoon Hong,Dongming Wang]  2006   \n",
       "1                [Charles J. Brooks]  2003   \n",
       "2  [Ahmed E. Hassan,Parminder Flora]  2007   \n",
       "3  [Ahmed E. Hassan,Parminder Flora]  2007   \n",
       "4   [Darrel Creacy,Carlito Vicencio]  2005   \n",
       "\n",
       "                                             journal citations  \\\n",
       "0                                                           []   \n",
       "1                                                           []   \n",
       "2  Proceedings of the 6th international workshop ...        []   \n",
       "3  Proceedings of the 6th international workshop ...        []   \n",
       "4                                                           []   \n",
       "\n",
       "                                            abstract  \n",
       "0                                                NaN  \n",
       "1                                                NaN  \n",
       "2  This panel session discusses performance engin...  \n",
       "3  This panel session discusses performance engin...  \n",
       "4  Whether you're frustrated with current PC offe...  "
      ]
     },
     "execution_count": 31,
     "metadata": {},
     "output_type": "execute_result"
    }
   ],
   "source": [
    "data_top = data.head() \n",
    "data_top  "
   ]
  },
  {
   "cell_type": "code",
   "execution_count": 32,
   "metadata": {},
   "outputs": [
    {
     "data": {
      "text/plain": [
       "True"
      ]
     },
     "execution_count": 32,
     "metadata": {},
     "output_type": "execute_result"
    }
   ],
   "source": [
    "G.is_directed()"
   ]
  },
  {
   "cell_type": "code",
   "execution_count": 33,
   "metadata": {},
   "outputs": [
    {
     "data": {
      "text/plain": [
       "(910892, 7)"
      ]
     },
     "execution_count": 33,
     "metadata": {},
     "output_type": "execute_result"
    }
   ],
   "source": [
    "data.shape"
   ]
  },
  {
   "cell_type": "code",
   "execution_count": 34,
   "metadata": {},
   "outputs": [
    {
     "data": {
      "text/html": [
       "<div>\n",
       "<style scoped>\n",
       "    .dataframe tbody tr th:only-of-type {\n",
       "        vertical-align: middle;\n",
       "    }\n",
       "\n",
       "    .dataframe tbody tr th {\n",
       "        vertical-align: top;\n",
       "    }\n",
       "\n",
       "    .dataframe thead th {\n",
       "        text-align: right;\n",
       "    }\n",
       "</style>\n",
       "<table border=\"1\" class=\"dataframe\">\n",
       "  <thead>\n",
       "    <tr style=\"text-align: right;\">\n",
       "      <th></th>\n",
       "      <th>index</th>\n",
       "      <th>title</th>\n",
       "      <th>author</th>\n",
       "      <th>year</th>\n",
       "      <th>journal</th>\n",
       "      <th>citations</th>\n",
       "      <th>abstract</th>\n",
       "    </tr>\n",
       "  </thead>\n",
       "  <tbody>\n",
       "    <tr>\n",
       "      <td>0</td>\n",
       "      <td>0</td>\n",
       "      <td>Automated Deduction in Geometry: 5th Internati...</td>\n",
       "      <td>[Hoon Hong,Dongming Wang]</td>\n",
       "      <td>2006</td>\n",
       "      <td></td>\n",
       "      <td>[]</td>\n",
       "      <td>NaN</td>\n",
       "    </tr>\n",
       "    <tr>\n",
       "      <td>1</td>\n",
       "      <td>1</td>\n",
       "      <td>A+ Certification Core Hardware (Text &amp; Lab Man...</td>\n",
       "      <td>[Charles J. Brooks]</td>\n",
       "      <td>2003</td>\n",
       "      <td></td>\n",
       "      <td>[]</td>\n",
       "      <td>NaN</td>\n",
       "    </tr>\n",
       "    <tr>\n",
       "      <td>2</td>\n",
       "      <td>2</td>\n",
       "      <td>Performance engineering in industry: current p...</td>\n",
       "      <td>[Ahmed E. Hassan,Parminder Flora]</td>\n",
       "      <td>2007</td>\n",
       "      <td>Proceedings of the 6th international workshop ...</td>\n",
       "      <td>[]</td>\n",
       "      <td>This panel session discusses performance engin...</td>\n",
       "    </tr>\n",
       "    <tr>\n",
       "      <td>3</td>\n",
       "      <td>2</td>\n",
       "      <td>Performance engineering in industry: current p...</td>\n",
       "      <td>[Ahmed E. Hassan,Parminder Flora]</td>\n",
       "      <td>2007</td>\n",
       "      <td>Proceedings of the 6th international workshop ...</td>\n",
       "      <td>[]</td>\n",
       "      <td>This panel session discusses performance engin...</td>\n",
       "    </tr>\n",
       "    <tr>\n",
       "      <td>4</td>\n",
       "      <td>3</td>\n",
       "      <td>Dude, You Can Do It! How to Build a Sweeet PC</td>\n",
       "      <td>[Darrel Creacy,Carlito Vicencio]</td>\n",
       "      <td>2005</td>\n",
       "      <td></td>\n",
       "      <td>[]</td>\n",
       "      <td>Whether you're frustrated with current PC offe...</td>\n",
       "    </tr>\n",
       "    <tr>\n",
       "      <td>...</td>\n",
       "      <td>...</td>\n",
       "      <td>...</td>\n",
       "      <td>...</td>\n",
       "      <td>...</td>\n",
       "      <td>...</td>\n",
       "      <td>...</td>\n",
       "      <td>...</td>\n",
       "    </tr>\n",
       "    <tr>\n",
       "      <td>910887</td>\n",
       "      <td>629810</td>\n",
       "      <td>Review article</td>\n",
       "      <td>[]</td>\n",
       "      <td>2008</td>\n",
       "      <td>Communications of the ACM</td>\n",
       "      <td>[]</td>\n",
       "      <td>NaN</td>\n",
       "    </tr>\n",
       "    <tr>\n",
       "      <td>910888</td>\n",
       "      <td>629811</td>\n",
       "      <td>Multimodal system evaluation using modality ef...</td>\n",
       "      <td>[Manolis Perakakis,Alexandros Potamianos]</td>\n",
       "      <td>2008</td>\n",
       "      <td>Proceedings of the 10th international conferen...</td>\n",
       "      <td>[]</td>\n",
       "      <td>In this paper, we propose two new objective me...</td>\n",
       "    </tr>\n",
       "    <tr>\n",
       "      <td>910889</td>\n",
       "      <td>629811</td>\n",
       "      <td>Multimodal system evaluation using modality ef...</td>\n",
       "      <td>[Manolis Perakakis,Alexandros Potamianos]</td>\n",
       "      <td>2008</td>\n",
       "      <td>Proceedings of the 10th international conferen...</td>\n",
       "      <td>[]</td>\n",
       "      <td>In this paper, we propose two new objective me...</td>\n",
       "    </tr>\n",
       "    <tr>\n",
       "      <td>910890</td>\n",
       "      <td>629812</td>\n",
       "      <td>Computer System Architecture</td>\n",
       "      <td>[V. K. Jain]</td>\n",
       "      <td>2007</td>\n",
       "      <td></td>\n",
       "      <td>[]</td>\n",
       "      <td>NaN</td>\n",
       "    </tr>\n",
       "    <tr>\n",
       "      <td>910891</td>\n",
       "      <td>629813</td>\n",
       "      <td>Oppositional target domain estimation using gr...</td>\n",
       "      <td>[Maryam Shokri,Hamid R. Tizhoosh,Mohamed S. Ka...</td>\n",
       "      <td>2009</td>\n",
       "      <td>Applied Soft Computing</td>\n",
       "      <td>[]</td>\n",
       "      <td>In this paper we address the problem of estima...</td>\n",
       "    </tr>\n",
       "  </tbody>\n",
       "</table>\n",
       "<p>910892 rows × 7 columns</p>\n",
       "</div>"
      ],
      "text/plain": [
       "         index                                              title  \\\n",
       "0            0  Automated Deduction in Geometry: 5th Internati...   \n",
       "1            1  A+ Certification Core Hardware (Text & Lab Man...   \n",
       "2            2  Performance engineering in industry: current p...   \n",
       "3            2  Performance engineering in industry: current p...   \n",
       "4            3      Dude, You Can Do It! How to Build a Sweeet PC   \n",
       "...        ...                                                ...   \n",
       "910887  629810                                     Review article   \n",
       "910888  629811  Multimodal system evaluation using modality ef...   \n",
       "910889  629811  Multimodal system evaluation using modality ef...   \n",
       "910890  629812                       Computer System Architecture   \n",
       "910891  629813  Oppositional target domain estimation using gr...   \n",
       "\n",
       "                                                   author  year  \\\n",
       "0                               [Hoon Hong,Dongming Wang]  2006   \n",
       "1                                     [Charles J. Brooks]  2003   \n",
       "2                       [Ahmed E. Hassan,Parminder Flora]  2007   \n",
       "3                       [Ahmed E. Hassan,Parminder Flora]  2007   \n",
       "4                        [Darrel Creacy,Carlito Vicencio]  2005   \n",
       "...                                                   ...   ...   \n",
       "910887                                                 []  2008   \n",
       "910888          [Manolis Perakakis,Alexandros Potamianos]  2008   \n",
       "910889          [Manolis Perakakis,Alexandros Potamianos]  2008   \n",
       "910890                                       [V. K. Jain]  2007   \n",
       "910891  [Maryam Shokri,Hamid R. Tizhoosh,Mohamed S. Ka...  2009   \n",
       "\n",
       "                                                  journal citations  \\\n",
       "0                                                                []   \n",
       "1                                                                []   \n",
       "2       Proceedings of the 6th international workshop ...        []   \n",
       "3       Proceedings of the 6th international workshop ...        []   \n",
       "4                                                                []   \n",
       "...                                                   ...       ...   \n",
       "910887                          Communications of the ACM        []   \n",
       "910888  Proceedings of the 10th international conferen...        []   \n",
       "910889  Proceedings of the 10th international conferen...        []   \n",
       "910890                                                           []   \n",
       "910891                             Applied Soft Computing        []   \n",
       "\n",
       "                                                 abstract  \n",
       "0                                                     NaN  \n",
       "1                                                     NaN  \n",
       "2       This panel session discusses performance engin...  \n",
       "3       This panel session discusses performance engin...  \n",
       "4       Whether you're frustrated with current PC offe...  \n",
       "...                                                   ...  \n",
       "910887                                                NaN  \n",
       "910888  In this paper, we propose two new objective me...  \n",
       "910889  In this paper, we propose two new objective me...  \n",
       "910890                                                NaN  \n",
       "910891  In this paper we address the problem of estima...  \n",
       "\n",
       "[910892 rows x 7 columns]"
      ]
     },
     "execution_count": 34,
     "metadata": {},
     "output_type": "execute_result"
    }
   ],
   "source": [
    "data.dropna(subset=['index'])"
   ]
  },
  {
   "cell_type": "code",
   "execution_count": 35,
   "metadata": {},
   "outputs": [
    {
     "data": {
      "text/plain": [
       "(910892, 7)"
      ]
     },
     "execution_count": 35,
     "metadata": {},
     "output_type": "execute_result"
    }
   ],
   "source": [
    "data.shape"
   ]
  },
  {
   "cell_type": "code",
   "execution_count": 36,
   "metadata": {},
   "outputs": [
    {
     "name": "stdout",
     "output_type": "stream",
     "text": [
      "629814 nodes\n",
      "632751 edges\n"
     ]
    }
   ],
   "source": [
    "print(G.number_of_nodes(), 'nodes')\n",
    "print(G.size(), 'edges')"
   ]
  },
  {
   "cell_type": "code",
   "execution_count": 83,
   "metadata": {},
   "outputs": [],
   "source": [
    "G.remove_nodes_from(list(nx.isolates(G)))"
   ]
  },
  {
   "cell_type": "code",
   "execution_count": 16,
   "metadata": {},
   "outputs": [
    {
     "data": {
      "text/plain": [
       "dict_keys(['title', 'journal', 'abstract'])"
      ]
     },
     "execution_count": 16,
     "metadata": {},
     "output_type": "execute_result"
    }
   ],
   "source": [
    "G.nodes['77108'].keys()"
   ]
  },
  {
   "cell_type": "code",
   "execution_count": 39,
   "metadata": {},
   "outputs": [],
   "source": [
    "#TextBlob(G.nodes[G_sorted[3][0]]['abstract']).noun_phrases"
   ]
  },
  {
   "cell_type": "markdown",
   "metadata": {},
   "source": [
    "lisäsin tarkistuksen ettei tapahdu jakamista nollalla, ja annoin kaikille verkon solmuille parserissa default abstraktin = \"\" jos abstraktia ei ole niin ei tarvitse käsitellä nulleja."
   ]
  },
  {
   "cell_type": "markdown",
   "metadata": {},
   "source": [
    "### NLP shared phrases using TextBlob"
   ]
  },
  {
   "cell_type": "code",
   "execution_count": 69,
   "metadata": {},
   "outputs": [],
   "source": [
    "#wordlist is the wordlist of the central node and comparison is wordlist of one of it's neighbor\n",
    "def shared_noun_phrases(wordlist, comparison):\n",
    "    count=0\n",
    "    for word in wordlist:\n",
    "        if word in comparison:\n",
    "            count+=1\n",
    "    if (len(wordlist) == 0):\n",
    "        return 0\n",
    "    return count/len(wordlist)"
   ]
  },
  {
   "cell_type": "markdown",
   "metadata": {},
   "source": [
    "Muutin find_noun_phrases:in palauttamaan 2 eri listaa, niin on helpompi käsitellä arvoja."
   ]
  },
  {
   "cell_type": "code",
   "execution_count": 70,
   "metadata": {},
   "outputs": [],
   "source": [
    "def find_noun_phrases(graph, starting_node):\n",
    "    noun_phrases= TextBlob(G.nodes[starting_node]['abstract']).noun_phrases\n",
    "    #data_set=[noun_phrases]\n",
    "    data_set=[]\n",
    "    for neighbor in graph.predecessors(starting_node):\n",
    "        if 'abstract' in G.nodes[neighbor].keys():\n",
    "            data_set.append(shared_noun_phrases(noun_phrases, TextBlob(G.nodes[neighbor]['abstract']).noun_phrases))\n",
    "    return noun_phrases, data_set"
   ]
  },
  {
   "cell_type": "code",
   "execution_count": 71,
   "metadata": {},
   "outputs": [
    {
     "name": "stdout",
     "output_type": "stream",
     "text": [
      "['preface', 'front matter', 'preface', 'advances', 'computer hardware', 'direct contact', 'similar advances', 'computer software', 'smalltalk-80', 'computer software', 'interactive contact', 'personal computer systems', 'smalltalk-80', 'major parts', 'part', 'part', \"system 's functionality\", 'part', 'moderate-size application', 'part', 'smalltalk-80', 'virtual machine']\n"
     ]
    }
   ],
   "source": [
    "print(find_noun_phrases(G, '151297')[0])"
   ]
  },
  {
   "cell_type": "code",
   "execution_count": 110,
   "metadata": {},
   "outputs": [],
   "source": [
    "def select_n_nodes_with_highest_degrees(graph, n):\n",
    "    node_list = [ seq[0] for seq in sorted(graph.degree, key=lambda x: x[1], reverse=True)[0:n] ]\n",
    "    return node_list"
   ]
  },
  {
   "cell_type": "code",
   "execution_count": null,
   "metadata": {},
   "outputs": [],
   "source": [
    "top_ten_citations=[]\n",
    "i=0\n",
    "k=0\n",
    "while k<10:\n",
    "    if 'abstract' in G.nodes[G_sorted[i][0]].keys():\n",
    "            top_ten_citations.append(find_noun_phrases(G, G_sorted[i][0])),\n",
    "            k+=1\\n\n",
    "    i+=1\""
   ]
  },
  {
   "cell_type": "markdown",
   "metadata": {},
   "source": [
    "### removing nodes without abstracts"
   ]
  },
  {
   "cell_type": "code",
   "execution_count": 91,
   "metadata": {},
   "outputs": [],
   "source": [
    "def graph_only_nodes_with_abstract(graph):\n",
    "    no_abstracts = graph.copy()\n",
    "    for node in [x for x, y in graph.nodes(data=True) if y['abstract']=='']:\n",
    "        no_abstracts.remove_node(node)\n",
    "    #print(no_abstracts.number_of_nodes(), 'nodes after removing abstractless nodes')\n",
    "    return no_abstracts"
   ]
  },
  {
   "cell_type": "markdown",
   "metadata": {},
   "source": [
    "### selecting highest degree nodes"
   ]
  },
  {
   "cell_type": "code",
   "execution_count": null,
   "metadata": {},
   "outputs": [],
   "source": [
    "def select_n_nodes_with_average_degrees(graph, n):\n",
    "    G_no_isolated = graph.copy()\n",
    "    G_no_isolated.remove_nodes_from(list(nx.isolates(G_no_isolated)))\n",
    "    #print(G.number_of_nodes(), 'nodes in G,', G_no_isolated.number_of_nodes(), 'nodes in G_no_isolated')\n",
    "    node_list = [ seq[0] for seq in sorted(G_no_isolated.degree, key=lambda x: x[1], reverse=True) ]\n",
    "    halfway_point = int(len(node_list)/2)\n",
    "    to_remove = [n for n in outdeg if outdeg[n] == 1]\n",
    "    return node_list[halfway_point:(halfway_point+n)]"
   ]
  },
  {
   "cell_type": "code",
   "execution_count": 112,
   "metadata": {},
   "outputs": [],
   "source": [
    "def select_n_nodes_with_highest_degrees(graph, n):\n",
    "    node_list = [ seq[0] for seq in sorted(graph.degree, key=lambda x: x[1], reverse=True)[0:n] ]\n",
    "    return node_list"
   ]
  },
  {
   "cell_type": "code",
   "execution_count": null,
   "metadata": {},
   "outputs": [],
   "source": [
    "average_degree_nodes = select_n_nodes_with_average_degrees(G_no_isolated, 5)\n",
    "print(average_degree_nodes)"
   ]
  },
  {
   "cell_type": "code",
   "execution_count": null,
   "metadata": {},
   "outputs": [],
   "source": [
    "G.degree(average_degree_nodes[4])"
   ]
  },
  {
   "cell_type": "code",
   "execution_count": 113,
   "metadata": {},
   "outputs": [],
   "source": [
    "highest_degree_nodes = select_n_nodes_with_highest_degrees(graph_only_nodes_with_abstract(G), 5)"
   ]
  },
  {
   "cell_type": "markdown",
   "metadata": {},
   "source": [
    "### abstract similarity percentage"
   ]
  },
  {
   "cell_type": "code",
   "execution_count": 100,
   "metadata": {},
   "outputs": [],
   "source": [
    "def abstract_similarity_percentage(list):\n",
    "    if len(list) != 0:\n",
    "        return sum(list)/len(list)\n",
    "    return 0"
   ]
  },
  {
   "cell_type": "code",
   "execution_count": 115,
   "metadata": {},
   "outputs": [
    {
     "name": "stdout",
     "output_type": "stream",
     "text": [
      "Node: 326368 // Similarity to neighbouring article abstracts: 0.004140127388535034\n",
      "Node: 151297 // Similarity to neighbouring article abstracts: 0.012987012987012995\n",
      "Node: 319217 // Similarity to neighbouring article abstracts: 0.00449438202247191\n",
      "Node: 207703 // Similarity to neighbouring article abstracts: 0.010070869078701973\n",
      "Node: 250081 // Similarity to neighbouring article abstracts: 0.03126897389192466\n"
     ]
    }
   ],
   "source": [
    "for node_index in highest_degree_nodes:\n",
    "    #print(find_noun_phrases(G, node_index)[0])\n",
    "    print(\"Node:\", node_index, \"// Similarity to neighbouring article abstracts:\", abstract_similarity_percentage(find_noun_phrases(graph_only_nodes_with_abstract(G), node_index)[1]))"
   ]
  },
  {
   "cell_type": "code",
   "execution_count": 93,
   "metadata": {},
   "outputs": [],
   "source": [
    "def make_comparison(graph, starting_node):\n",
    "    noun_phrases= TextBlob(graph.nodes[starting_node]['abstract']).noun_phrases\n",
    "    #data_set=[noun_phrases]\n",
    "    data_set=[]\n",
    "    random_node=take_random_node(graph, starting_node)\n",
    "    for neighbor in graph.predecessors(random_node):\n",
    "        if 'abstract' in graph.nodes[neighbor].keys():\n",
    "            data_set.append(shared_noun_phrases(noun_phrases, TextBlob(graph.nodes[neighbor]['abstract']).noun_phrases))\n",
    "    return random_node, noun_phrases, data_set\n",
    "    "
   ]
  },
  {
   "cell_type": "code",
   "execution_count": 94,
   "metadata": {},
   "outputs": [],
   "source": [
    "def take_random_node(graph, starting):\n",
    "    while(True):\n",
    "        random_node=choice(list(graph.nodes()))\n",
    "        if random_node not in graph.neighbors(starting) and graph.degree[random_node]>10:\n",
    "            return random_node\n",
    "    return None"
   ]
  },
  {
   "cell_type": "code",
   "execution_count": 99,
   "metadata": {},
   "outputs": [
    {
     "ename": "NameError",
     "evalue": "name 'abstract_similarity_percentage' is not defined",
     "output_type": "error",
     "traceback": [
      "\u001b[0;31m---------------------------------------------------------------------------\u001b[0m",
      "\u001b[0;31mNameError\u001b[0m                                 Traceback (most recent call last)",
      "\u001b[0;32m<ipython-input-99-581290b31d92>\u001b[0m in \u001b[0;36m<module>\u001b[0;34m\u001b[0m\n\u001b[1;32m      1\u001b[0m \u001b[0mdata\u001b[0m\u001b[0;34m=\u001b[0m\u001b[0mmake_comparison\u001b[0m\u001b[0;34m(\u001b[0m\u001b[0mgraph_only_nodes_with_abstract\u001b[0m\u001b[0;34m(\u001b[0m\u001b[0mG\u001b[0m\u001b[0;34m)\u001b[0m\u001b[0;34m,\u001b[0m \u001b[0;34m'151297'\u001b[0m\u001b[0;34m)\u001b[0m\u001b[0;34m\u001b[0m\u001b[0;34m\u001b[0m\u001b[0m\n\u001b[0;32m----> 2\u001b[0;31m \u001b[0mprint\u001b[0m\u001b[0;34m(\u001b[0m\u001b[0mabstract_similarity_percentage\u001b[0m\u001b[0;34m(\u001b[0m\u001b[0mdata\u001b[0m\u001b[0;34m[\u001b[0m\u001b[0;36m2\u001b[0m\u001b[0;34m]\u001b[0m\u001b[0;34m)\u001b[0m\u001b[0;34m)\u001b[0m\u001b[0;34m\u001b[0m\u001b[0;34m\u001b[0m\u001b[0m\n\u001b[0m",
      "\u001b[0;31mNameError\u001b[0m: name 'abstract_similarity_percentage' is not defined"
     ]
    }
   ],
   "source": [
    "data=make_comparison(graph_only_nodes_with_abstract(G), '151297')\n",
    "print(abstract_similarity_percentage(data[2]))"
   ]
  }
 ],
 "metadata": {
  "kernelspec": {
   "display_name": "Python 3",
   "language": "python",
   "name": "python3"
  },
  "language_info": {
   "codemirror_mode": {
    "name": "ipython",
    "version": 3
   },
   "file_extension": ".py",
   "mimetype": "text/x-python",
   "name": "python",
   "nbconvert_exporter": "python",
   "pygments_lexer": "ipython3",
   "version": "3.7.4"
  }
 },
 "nbformat": 4,
 "nbformat_minor": 2
}
