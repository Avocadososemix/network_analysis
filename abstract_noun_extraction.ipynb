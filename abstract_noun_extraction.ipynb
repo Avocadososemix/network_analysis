{
 "cells": [
  {
   "cell_type": "code",
   "execution_count": 29,
   "metadata": {},
   "outputs": [],
   "source": [
    "import numpy as np\n",
    "import pandas as pd\n",
    "import networkx as nx\n",
    "import matplotlib.pyplot as plt\n",
    "import os\n",
    "from textblob import TextBlob\n",
    "import itertools"
   ]
  },
  {
   "cell_type": "code",
   "execution_count": 12,
   "metadata": {},
   "outputs": [
    {
     "data": {
      "text/plain": [
       "['629814\\n',\n",
       " '#*Automated Deduction in Geometry: 5th International Workshop, ADG 2004, Gainesville, FL, USA, September 16-18, 2004, Revised Papers (Lecture Notes in Computer ... / Lecture Notes in Artificial Intelligence)\\n',\n",
       " '#@Hoon Hong,Dongming Wang\\n',\n",
       " '#t2006\\n',\n",
       " '#c\\n',\n",
       " '#index0\\n',\n",
       " '\\n',\n",
       " '#*A+ Certification Core Hardware (Text & Lab Manual)\\n',\n",
       " '#@Charles J. Brooks\\n',\n",
       " '#t2003\\n',\n",
       " '#c\\n',\n",
       " '#index1\\n',\n",
       " '\\n',\n",
       " '#*Performance engineering in industry: current practices and adoption challenges\\n',\n",
       " '#@Ahmed E. Hassan,Parminder Flora\\n',\n",
       " '#t2007\\n',\n",
       " '#cProceedings of the 6th international workshop on Software and performance\\n',\n",
       " '#index2\\n',\n",
       " '#!This panel session discusses performance engineering practices in industry. Presentations in the session will explore the use of lightweight techniques and approaches in order to permit the cost effective and rapid adoption of performance modeling research by large industrial software systems.\\n',\n",
       " '\\n',\n",
       " '#*Dude, You Can Do It! How to Build a Sweeet PC\\n',\n",
       " '#@Darrel Creacy,Carlito Vicencio\\n',\n",
       " '#t2005\\n',\n",
       " '#c\\n',\n",
       " '#index3\\n',\n",
       " \"#!Whether you're frustrated with current PC offerings (and their inflated prices) or are simply looking for a cool project to take on, building a computer from the ground up using off-the-shelf parts can offer significant advantages. In these pages, computer dudes Darrel Wayne Creacy and Carlito Vicencio outline those advantages and then show you how to build the computer of your dreams. The pair begins by explaining what components make up a PC and what you need to think about when selecting those components, before helping you determine your needs and suggesting various configurations to fit those uses. Breaking the process down into its simplest terms, the authors provide component lists for a number of different PC setups: for students, home users, multimedia/home-theater enthusiasts, high-end graphic/video/audio producers, and more. Using plain language and plenty of visual and instructional aids--photos, illustrations, diagrams, step-by-step directions, and more--the authors ensure that even someone (like you!) who knows nothing about technology can build the perfect PC! On a more personal note, the authors are donating a percentage of their income from this book to the Breast Cancer Research Foundationï¾\\x96to thank all the women in their lives who have supported them and battled the disease. For more information about BCRF, please visit http://www.bcrfcure.org/.\\n\",\n",
       " '\\n',\n",
       " '#*What Every Programmer Needs to Know about Security (Advances in Information Security)\\n',\n",
       " '#@Neil Daswani,Anita Kesavan\\n',\n",
       " '#t2006\\n',\n",
       " '#c\\n',\n",
       " '#index4\\n',\n",
       " '\\n',\n",
       " '#*Interpreting Kullback-Leibler divergence with the Neyman-Pearson lemma\\n',\n",
       " '#@Shinto Eguchi,John Copas\\n',\n",
       " '#t2006\\n',\n",
       " '#cJournal of Multivariate Analysis\\n',\n",
       " '#index5\\n',\n",
       " '#%436405\\n',\n",
       " '#!Kullback-Leibler divergence and the Neyman-Pearson lemma are two fundamental concepts in statistics. Both are about likelihood ratios: Kullback-Leibler divergence is the expected log-likelihood ratio, and the Neyman-Pearson lemma is about error rates of likelihood ratio tests. Exploring this connection gives another statistical interpretation of the Kullback-Leibler divergence in terms of the loss of power of the likelihood ratio test when the wrong distribution is used for one of the hypotheses. In this interpretation, the standard non-negativity property of the Kullback-Leibler divergence is essentially a restatement of the optimal property of likelihood ratios established by the Neyman-Pearson lemma. The asymmetry of Kullback-Leibler divergence is overviewed in information geometry.\\n',\n",
       " '\\n',\n",
       " '#*Digital Media: Transformations in Human Communication\\n',\n",
       " '#@Lee Humphreys,Paul Messaris\\n',\n",
       " '#t2006\\n',\n",
       " '#c\\n',\n",
       " '#index6\\n',\n",
       " '\\n',\n",
       " '#*TOPP---the OpenMS proteomics pipeline\\n',\n",
       " '#@Oliver Kohlbacher,Knut Reinert,Clemens Gröpl,Eva Lange,Nico Pfeifer,Ole Schulz-Trieglaff,Marc Sturm\\n',\n",
       " '#t2007\\n',\n",
       " '#cBioinformatics\\n',\n",
       " '#index7\\n',\n",
       " \"#!Motivation: Experimental techniques in proteomics have seen rapid development over the last few years. Volume and complexity of the data have both been growing at a similar rate. Accordingly, data management and analysis are one of the major challenges in proteomics. Flexible algorithms are required to handle changing experimental setups and to assist in developing and validating new methods. In order to facilitate these studies, it would be desirable to have a flexible 'toolbox' of versatile and user-friendly applications allowing for rapid construction of computational workflows in proteomics. Results: We describe a set of tools for proteomics data analysis---TOPP, The OpenMS Proteomics Pipeline. TOPP provides a set of computational tools which can be easily combined into analysis pipelines even by non-experts and can be used in proteomics workflows. These applications range from useful utilities (file format conversion, peak picking) over wrapper applications for known applications (e.g. Mascot) to completely new algorithmic techniques for data reduction and data analysis. We anticipate that TOPP will greatly facilitate rapid prototyping of proteomics data evaluation pipelines. As such, we describe the basic concepts and the current abilities of TOPP and illustrate these concepts in the context of two example applications: the identification of peptides from a raw dataset through database search and the complex analysis of a standard addition experiment for the absolute quantitation of biomarkers. The latter example demonstrates TOPP's ability to construct flexible analysis pipelines in support of complex experimental setups. Availability: The TOPP components are available as open-source software under the lesser GNU public license (LGPL). Source code is available from the project website at www.OpenMS.de Contact: oliver.kohlbacher@uni-tuebingen.de\\n\",\n",
       " '\\n',\n",
       " '#*Type Graphics and MacIntosh\\n',\n",
       " '#@John Blaint\\n',\n",
       " '#t1987\\n',\n",
       " '#c\\n',\n",
       " '#index8\\n',\n",
       " '\\n',\n",
       " '#*Adaptive Hypermedia and Adaptive Web-Based Systems: 4th International Conference, AH 2006, Dublin, Ireland, June 21-23, 2006, Proceedings (Lecture Notes in Computer Science)\\n',\n",
       " '#@Vincent Wade,Helen Ashman,Barry Smyth\\n',\n",
       " '#t2006\\n',\n",
       " '#c\\n',\n",
       " '#index9\\n',\n",
       " '\\n',\n",
       " '#*Dependable Computing: Second Latin-American Symposium, LADC 2005, Salvador, Brazil, October 25-28, 2005, Proceedings (Lecture Notes in Computer Science)\\n',\n",
       " '#@Carlos Alberto Maziero,João Gabriel Silva,Aline Maria Santos Andrade,Flávio Morais de Assis Silva\\n',\n",
       " '#t2005\\n',\n",
       " '#c\\n',\n",
       " '#index10\\n',\n",
       " '\\n',\n",
       " '#*Calculus Early Transcendentals Single Variable\\n',\n",
       " '#@Howard A. Anton\\n',\n",
       " '#t2006\\n',\n",
       " '#c\\n',\n",
       " '#index11\\n',\n",
       " '\\n',\n",
       " '#*Webbots, Spiders, and Screen Scrapers\\n',\n",
       " '#@Michael Schrenk,Michael Shrenk\\n',\n",
       " '#t2007\\n',\n",
       " '#c\\n',\n",
       " '#index12\\n',\n",
       " \"#!The Internet is bigger and better than what a mere browser allows. Webbots, Spiders, and Screen Scrapers is for programmers and businesspeople who want to take full advantage of the vast resources available on the Web. There's no reason to let browsers limit your online experience-especially when you can easily automate online tasks to suit your individual needs. Learn how to write webbots and spiders that do all this and more: Programmatically download entire websites Effectively parse data from web pages Manage cookies Decode encrypted files Automate form submissions Send and receive email Send SMS alerts to your cell phone Unlock password-protected websites Automatically bid in online auctions Exchange data with FTP and NNTP servers Sample projects using standard code libraries reinforce these new skills. You'll learn how to create your own webbots and spiders that track online prices, aggregate different data sources into a single web page, and archive the online data you just can't live without. You'll learn inside information from an experienced webbot developer on how and when to write stealthy webbots that mimic human behavior, tips for developing fault-tolerant designs, and various methods for launching and scheduling webbots. You'll also get advice on how to write webbots and spiders that respect website owner property rights, plus techniques for shielding websites from unwanted robots. As a bonus, visit the author's website to test your webbots on sample target pages, and to download the scripts and code libraries used in the book. Some tasks are just too tedious-or too important!- to leave to humans. Once you've automated your online life, you'll never let a browser limit the way you use the Internet again.\\n\",\n",
       " '\\n',\n",
       " '#*Fast k-NN Classification Rule Using Metrics on Space-Filling Curves\\n',\n",
       " '#@E. Skubalska-Rafajtowicz,A. Krzyzak\\n',\n",
       " '#t1996\\n',\n",
       " '#cProceedings of the 13th International Conference on Pattern Recognition - Volume 2\\n',\n",
       " '#index13\\n',\n",
       " '\\n',\n",
       " '#*Making the Digital City: The Early Shaping of Urban Internet Space (Design & the Built Environment S.)\\n',\n",
       " '#@Alessandro Aurigi\\n',\n",
       " '#t2005\\n',\n",
       " '#c\\n',\n",
       " '#index14\\n',\n",
       " '\\n',\n",
       " '#*Linspire 5.0: The No Nonsense Guide! (No Nonsense Guide! series)\\n',\n",
       " '#@Eric Grebler\\n',\n",
       " '#t2005\\n']"
      ]
     },
     "execution_count": 12,
     "metadata": {},
     "output_type": "execute_result"
    }
   ],
   "source": [
    "os.path.exists(\"outputacm.txt\")\n",
    "lauri_path = \"D:\\\\graphs\\\\outputacm.txt\"\n",
    "test = open(lauri_path, 'r',  encoding=\"utf8\") \n",
    "test.readlines()[0:100]"
   ]
  },
  {
   "cell_type": "code",
   "execution_count": 13,
   "metadata": {},
   "outputs": [],
   "source": [
    "G = nx.DiGraph()"
   ]
  },
  {
   "cell_type": "code",
   "execution_count": 60,
   "metadata": {},
   "outputs": [],
   "source": [
    "def create_graph(reference):\n",
    "    G.add_node(reference['index']) # add node\n",
    "    G.add_node(reference['index'], title=reference['title']) # add title attribute to node\n",
    "    G.add_node(reference['index'], journal=reference['journal']) # add journal attribute to node\n",
    "    G.add_node(reference['index'], abstract=reference['abstract']) # add abstract attribute to node\n",
    "    for citation in reference['citations']:\n",
    "        G.add_edge(reference['index'], citation) # add edge to node"
   ]
  },
  {
   "cell_type": "code",
   "execution_count": 61,
   "metadata": {},
   "outputs": [],
   "source": [
    "def parse_data():\n",
    "    with open(lauri_path, 'r',  encoding=\"utf8\") as f:\n",
    "        reference={}\n",
    "        citations=[]\n",
    "        readFile = f.readlines()\n",
    "        for line in readFile:\n",
    "            \n",
    "            if '#*' in line: # article title\n",
    "                if (bool(reference)):\n",
    "                    citations=[]\n",
    "                    reference={}\n",
    "                reference['title'] = line[2:].rstrip()\n",
    "            elif '#@' in line: # authors\n",
    "                reference['author'] = line[2:].rstrip().rsplit(\";\")\n",
    "            elif '#t' in line: # year published\n",
    "                reference['year'] = line[2:].rstrip()\n",
    "            elif '#c' in line: # journal\n",
    "                reference['journal'] = line[2:].rstrip()\n",
    "            elif '#index' in line: # index\n",
    "                reference['index'] = line[6:].rstrip()\n",
    "            elif '#%' in line: # id of cited paper\n",
    "                citations.append(line[2:].rstrip())\n",
    "            elif '#!' in line: # abstract\n",
    "                reference['abstract'] = line[2:].rstrip()\n",
    "                if (bool(reference)):\n",
    "                    reference['citations'] = citations\n",
    "                    citations=[]\n",
    "                    create_graph(reference)\n",
    "                    try:\n",
    "                        yield reference\n",
    "                    except IndexError as e:\n",
    "                        continue\n",
    "                reference={}\n",
    "        return reference"
   ]
  },
  {
   "cell_type": "code",
   "execution_count": 62,
   "metadata": {},
   "outputs": [],
   "source": [
    "data = pd.DataFrame(parse_data(), columns =('index', 'title', 'author',\n",
    "                                            'year', 'journal', 'citations', 'abstract'))"
   ]
  },
  {
   "cell_type": "code",
   "execution_count": 63,
   "metadata": {},
   "outputs": [
    {
     "name": "stdout",
     "output_type": "stream",
     "text": [
      "629814 nodes\n",
      "632751 edges\n"
     ]
    }
   ],
   "source": [
    "print(G.number_of_nodes(), 'nodes')\n",
    "print(G.size(), 'edges')"
   ]
  },
  {
   "cell_type": "code",
   "execution_count": 64,
   "metadata": {},
   "outputs": [
    {
     "data": {
      "text/html": [
       "<div>\n",
       "<style scoped>\n",
       "    .dataframe tbody tr th:only-of-type {\n",
       "        vertical-align: middle;\n",
       "    }\n",
       "\n",
       "    .dataframe tbody tr th {\n",
       "        vertical-align: top;\n",
       "    }\n",
       "\n",
       "    .dataframe thead th {\n",
       "        text-align: right;\n",
       "    }\n",
       "</style>\n",
       "<table border=\"1\" class=\"dataframe\">\n",
       "  <thead>\n",
       "    <tr style=\"text-align: right;\">\n",
       "      <th></th>\n",
       "      <th>index</th>\n",
       "      <th>title</th>\n",
       "      <th>author</th>\n",
       "      <th>year</th>\n",
       "      <th>journal</th>\n",
       "      <th>citations</th>\n",
       "      <th>abstract</th>\n",
       "    </tr>\n",
       "  </thead>\n",
       "  <tbody>\n",
       "    <tr>\n",
       "      <td>0</td>\n",
       "      <td>2</td>\n",
       "      <td>Performance engineering in industry: current p...</td>\n",
       "      <td>[Ahmed E. Hassan,Parminder Flora]</td>\n",
       "      <td>2007</td>\n",
       "      <td>Proceedings of the 6th international workshop ...</td>\n",
       "      <td>[]</td>\n",
       "      <td>This panel session discusses performance engin...</td>\n",
       "    </tr>\n",
       "    <tr>\n",
       "      <td>1</td>\n",
       "      <td>3</td>\n",
       "      <td>Dude, You Can Do It! How to Build a Sweeet PC</td>\n",
       "      <td>[Darrel Creacy,Carlito Vicencio]</td>\n",
       "      <td>2005</td>\n",
       "      <td></td>\n",
       "      <td>[]</td>\n",
       "      <td>Whether you're frustrated with current PC offe...</td>\n",
       "    </tr>\n",
       "    <tr>\n",
       "      <td>2</td>\n",
       "      <td>5</td>\n",
       "      <td>Interpreting Kullback-Leibler divergence with ...</td>\n",
       "      <td>[Shinto Eguchi,John Copas]</td>\n",
       "      <td>2006</td>\n",
       "      <td>Journal of Multivariate Analysis</td>\n",
       "      <td>[436405]</td>\n",
       "      <td>Kullback-Leibler divergence and the Neyman-Pea...</td>\n",
       "    </tr>\n",
       "    <tr>\n",
       "      <td>3</td>\n",
       "      <td>7</td>\n",
       "      <td>TOPP---the OpenMS proteomics pipeline</td>\n",
       "      <td>[Oliver Kohlbacher,Knut Reinert,Clemens Gröpl,...</td>\n",
       "      <td>2007</td>\n",
       "      <td>Bioinformatics</td>\n",
       "      <td>[]</td>\n",
       "      <td>Motivation: Experimental techniques in proteom...</td>\n",
       "    </tr>\n",
       "    <tr>\n",
       "      <td>4</td>\n",
       "      <td>12</td>\n",
       "      <td>Webbots, Spiders, and Screen Scrapers</td>\n",
       "      <td>[Michael Schrenk,Michael Shrenk]</td>\n",
       "      <td>2007</td>\n",
       "      <td></td>\n",
       "      <td>[]</td>\n",
       "      <td>The Internet is bigger and better than what a ...</td>\n",
       "    </tr>\n",
       "  </tbody>\n",
       "</table>\n",
       "</div>"
      ],
      "text/plain": [
       "  index                                              title  \\\n",
       "0     2  Performance engineering in industry: current p...   \n",
       "1     3      Dude, You Can Do It! How to Build a Sweeet PC   \n",
       "2     5  Interpreting Kullback-Leibler divergence with ...   \n",
       "3     7              TOPP---the OpenMS proteomics pipeline   \n",
       "4    12              Webbots, Spiders, and Screen Scrapers   \n",
       "\n",
       "                                              author  year  \\\n",
       "0                  [Ahmed E. Hassan,Parminder Flora]  2007   \n",
       "1                   [Darrel Creacy,Carlito Vicencio]  2005   \n",
       "2                         [Shinto Eguchi,John Copas]  2006   \n",
       "3  [Oliver Kohlbacher,Knut Reinert,Clemens Gröpl,...  2007   \n",
       "4                   [Michael Schrenk,Michael Shrenk]  2007   \n",
       "\n",
       "                                             journal citations  \\\n",
       "0  Proceedings of the 6th international workshop ...        []   \n",
       "1                                                           []   \n",
       "2                   Journal of Multivariate Analysis  [436405]   \n",
       "3                                     Bioinformatics        []   \n",
       "4                                                           []   \n",
       "\n",
       "                                            abstract  \n",
       "0  This panel session discusses performance engin...  \n",
       "1  Whether you're frustrated with current PC offe...  \n",
       "2  Kullback-Leibler divergence and the Neyman-Pea...  \n",
       "3  Motivation: Experimental techniques in proteom...  \n",
       "4  The Internet is bigger and better than what a ...  "
      ]
     },
     "execution_count": 64,
     "metadata": {},
     "output_type": "execute_result"
    }
   ],
   "source": [
    "data_top = data.head() \n",
    "data_top  "
   ]
  },
  {
   "cell_type": "code",
   "execution_count": 65,
   "metadata": {},
   "outputs": [
    {
     "data": {
      "text/plain": [
       "True"
      ]
     },
     "execution_count": 65,
     "metadata": {},
     "output_type": "execute_result"
    }
   ],
   "source": [
    "G.is_directed()"
   ]
  },
  {
   "cell_type": "code",
   "execution_count": 66,
   "metadata": {},
   "outputs": [
    {
     "data": {
      "text/plain": [
       "(281079, 7)"
      ]
     },
     "execution_count": 66,
     "metadata": {},
     "output_type": "execute_result"
    }
   ],
   "source": [
    "data.shape"
   ]
  },
  {
   "cell_type": "code",
   "execution_count": 67,
   "metadata": {},
   "outputs": [
    {
     "data": {
      "text/html": [
       "<div>\n",
       "<style scoped>\n",
       "    .dataframe tbody tr th:only-of-type {\n",
       "        vertical-align: middle;\n",
       "    }\n",
       "\n",
       "    .dataframe tbody tr th {\n",
       "        vertical-align: top;\n",
       "    }\n",
       "\n",
       "    .dataframe thead th {\n",
       "        text-align: right;\n",
       "    }\n",
       "</style>\n",
       "<table border=\"1\" class=\"dataframe\">\n",
       "  <thead>\n",
       "    <tr style=\"text-align: right;\">\n",
       "      <th></th>\n",
       "      <th>index</th>\n",
       "      <th>title</th>\n",
       "      <th>author</th>\n",
       "      <th>year</th>\n",
       "      <th>journal</th>\n",
       "      <th>citations</th>\n",
       "      <th>abstract</th>\n",
       "    </tr>\n",
       "  </thead>\n",
       "  <tbody>\n",
       "    <tr>\n",
       "      <td>0</td>\n",
       "      <td>2</td>\n",
       "      <td>Performance engineering in industry: current p...</td>\n",
       "      <td>[Ahmed E. Hassan,Parminder Flora]</td>\n",
       "      <td>2007</td>\n",
       "      <td>Proceedings of the 6th international workshop ...</td>\n",
       "      <td>[]</td>\n",
       "      <td>This panel session discusses performance engin...</td>\n",
       "    </tr>\n",
       "    <tr>\n",
       "      <td>1</td>\n",
       "      <td>3</td>\n",
       "      <td>Dude, You Can Do It! How to Build a Sweeet PC</td>\n",
       "      <td>[Darrel Creacy,Carlito Vicencio]</td>\n",
       "      <td>2005</td>\n",
       "      <td></td>\n",
       "      <td>[]</td>\n",
       "      <td>Whether you're frustrated with current PC offe...</td>\n",
       "    </tr>\n",
       "    <tr>\n",
       "      <td>2</td>\n",
       "      <td>5</td>\n",
       "      <td>Interpreting Kullback-Leibler divergence with ...</td>\n",
       "      <td>[Shinto Eguchi,John Copas]</td>\n",
       "      <td>2006</td>\n",
       "      <td>Journal of Multivariate Analysis</td>\n",
       "      <td>[436405]</td>\n",
       "      <td>Kullback-Leibler divergence and the Neyman-Pea...</td>\n",
       "    </tr>\n",
       "    <tr>\n",
       "      <td>3</td>\n",
       "      <td>7</td>\n",
       "      <td>TOPP---the OpenMS proteomics pipeline</td>\n",
       "      <td>[Oliver Kohlbacher,Knut Reinert,Clemens Gröpl,...</td>\n",
       "      <td>2007</td>\n",
       "      <td>Bioinformatics</td>\n",
       "      <td>[]</td>\n",
       "      <td>Motivation: Experimental techniques in proteom...</td>\n",
       "    </tr>\n",
       "    <tr>\n",
       "      <td>4</td>\n",
       "      <td>12</td>\n",
       "      <td>Webbots, Spiders, and Screen Scrapers</td>\n",
       "      <td>[Michael Schrenk,Michael Shrenk]</td>\n",
       "      <td>2007</td>\n",
       "      <td></td>\n",
       "      <td>[]</td>\n",
       "      <td>The Internet is bigger and better than what a ...</td>\n",
       "    </tr>\n",
       "    <tr>\n",
       "      <td>...</td>\n",
       "      <td>...</td>\n",
       "      <td>...</td>\n",
       "      <td>...</td>\n",
       "      <td>...</td>\n",
       "      <td>...</td>\n",
       "      <td>...</td>\n",
       "      <td>...</td>\n",
       "    </tr>\n",
       "    <tr>\n",
       "      <td>281074</td>\n",
       "      <td>629806</td>\n",
       "      <td>Effectiveness and usability of an online help ...</td>\n",
       "      <td>[Jérôme Simonin,Noëlle Carbonell,Danielle Pelé]</td>\n",
       "      <td>2008</td>\n",
       "      <td>Proceedings of the 10th international conferen...</td>\n",
       "      <td>[8543, 327540, 395578, 397153, 398612]</td>\n",
       "      <td>An empirical study is presented which aims at ...</td>\n",
       "    </tr>\n",
       "    <tr>\n",
       "      <td>281075</td>\n",
       "      <td>629807</td>\n",
       "      <td>Busy period analysis of finite QBD processes</td>\n",
       "      <td>[Chaitanya Garikiparthi,Appie van de Liefvoort...</td>\n",
       "      <td>2008</td>\n",
       "      <td>ACM SIGMETRICS Performance Evaluation Review</td>\n",
       "      <td>[340965]</td>\n",
       "      <td>We present the number of customers served and ...</td>\n",
       "    </tr>\n",
       "    <tr>\n",
       "      <td>281076</td>\n",
       "      <td>629808</td>\n",
       "      <td>The Grid as a Single Entity: Towards a Behavio...</td>\n",
       "      <td>[Jesús Montes,Alberto Sánchez,Julio J. Valdés,...</td>\n",
       "      <td>2008</td>\n",
       "      <td>Proceedings of the OTM 2008 Confederated Inter...</td>\n",
       "      <td>[]</td>\n",
       "      <td>Grids emerged in the last decade as large dist...</td>\n",
       "    </tr>\n",
       "    <tr>\n",
       "      <td>281077</td>\n",
       "      <td>629811</td>\n",
       "      <td>Multimodal system evaluation using modality ef...</td>\n",
       "      <td>[Manolis Perakakis,Alexandros Potamianos]</td>\n",
       "      <td>2008</td>\n",
       "      <td>Proceedings of the 10th international conferen...</td>\n",
       "      <td>[294663, 302639, 572828]</td>\n",
       "      <td>In this paper, we propose two new objective me...</td>\n",
       "    </tr>\n",
       "    <tr>\n",
       "      <td>281078</td>\n",
       "      <td>629813</td>\n",
       "      <td>Oppositional target domain estimation using gr...</td>\n",
       "      <td>[Maryam Shokri,Hamid R. Tizhoosh,Mohamed S. Ka...</td>\n",
       "      <td>2009</td>\n",
       "      <td>Applied Soft Computing</td>\n",
       "      <td>[]</td>\n",
       "      <td>In this paper we address the problem of estima...</td>\n",
       "    </tr>\n",
       "  </tbody>\n",
       "</table>\n",
       "<p>281079 rows × 7 columns</p>\n",
       "</div>"
      ],
      "text/plain": [
       "         index                                              title  \\\n",
       "0            2  Performance engineering in industry: current p...   \n",
       "1            3      Dude, You Can Do It! How to Build a Sweeet PC   \n",
       "2            5  Interpreting Kullback-Leibler divergence with ...   \n",
       "3            7              TOPP---the OpenMS proteomics pipeline   \n",
       "4           12              Webbots, Spiders, and Screen Scrapers   \n",
       "...        ...                                                ...   \n",
       "281074  629806  Effectiveness and usability of an online help ...   \n",
       "281075  629807       Busy period analysis of finite QBD processes   \n",
       "281076  629808  The Grid as a Single Entity: Towards a Behavio...   \n",
       "281077  629811  Multimodal system evaluation using modality ef...   \n",
       "281078  629813  Oppositional target domain estimation using gr...   \n",
       "\n",
       "                                                   author  year  \\\n",
       "0                       [Ahmed E. Hassan,Parminder Flora]  2007   \n",
       "1                        [Darrel Creacy,Carlito Vicencio]  2005   \n",
       "2                              [Shinto Eguchi,John Copas]  2006   \n",
       "3       [Oliver Kohlbacher,Knut Reinert,Clemens Gröpl,...  2007   \n",
       "4                        [Michael Schrenk,Michael Shrenk]  2007   \n",
       "...                                                   ...   ...   \n",
       "281074    [Jérôme Simonin,Noëlle Carbonell,Danielle Pelé]  2008   \n",
       "281075  [Chaitanya Garikiparthi,Appie van de Liefvoort...  2008   \n",
       "281076  [Jesús Montes,Alberto Sánchez,Julio J. Valdés,...  2008   \n",
       "281077          [Manolis Perakakis,Alexandros Potamianos]  2008   \n",
       "281078  [Maryam Shokri,Hamid R. Tizhoosh,Mohamed S. Ka...  2009   \n",
       "\n",
       "                                                  journal  \\\n",
       "0       Proceedings of the 6th international workshop ...   \n",
       "1                                                           \n",
       "2                        Journal of Multivariate Analysis   \n",
       "3                                          Bioinformatics   \n",
       "4                                                           \n",
       "...                                                   ...   \n",
       "281074  Proceedings of the 10th international conferen...   \n",
       "281075       ACM SIGMETRICS Performance Evaluation Review   \n",
       "281076  Proceedings of the OTM 2008 Confederated Inter...   \n",
       "281077  Proceedings of the 10th international conferen...   \n",
       "281078                             Applied Soft Computing   \n",
       "\n",
       "                                     citations  \\\n",
       "0                                           []   \n",
       "1                                           []   \n",
       "2                                     [436405]   \n",
       "3                                           []   \n",
       "4                                           []   \n",
       "...                                        ...   \n",
       "281074  [8543, 327540, 395578, 397153, 398612]   \n",
       "281075                                [340965]   \n",
       "281076                                      []   \n",
       "281077                [294663, 302639, 572828]   \n",
       "281078                                      []   \n",
       "\n",
       "                                                 abstract  \n",
       "0       This panel session discusses performance engin...  \n",
       "1       Whether you're frustrated with current PC offe...  \n",
       "2       Kullback-Leibler divergence and the Neyman-Pea...  \n",
       "3       Motivation: Experimental techniques in proteom...  \n",
       "4       The Internet is bigger and better than what a ...  \n",
       "...                                                   ...  \n",
       "281074  An empirical study is presented which aims at ...  \n",
       "281075  We present the number of customers served and ...  \n",
       "281076  Grids emerged in the last decade as large dist...  \n",
       "281077  In this paper, we propose two new objective me...  \n",
       "281078  In this paper we address the problem of estima...  \n",
       "\n",
       "[281079 rows x 7 columns]"
      ]
     },
     "execution_count": 67,
     "metadata": {},
     "output_type": "execute_result"
    }
   ],
   "source": [
    "data.dropna(subset=['index'])"
   ]
  },
  {
   "cell_type": "code",
   "execution_count": 68,
   "metadata": {},
   "outputs": [
    {
     "data": {
      "text/plain": [
       "(281079, 7)"
      ]
     },
     "execution_count": 68,
     "metadata": {},
     "output_type": "execute_result"
    }
   ],
   "source": [
    "data.shape"
   ]
  },
  {
   "cell_type": "code",
   "execution_count": 69,
   "metadata": {},
   "outputs": [],
   "source": [
    "G_sorted = sorted(G.degree, key=lambda x: x[1], reverse=True)"
   ]
  },
  {
   "cell_type": "code",
   "execution_count": 70,
   "metadata": {},
   "outputs": [
    {
     "data": {
      "text/plain": [
       "629814"
      ]
     },
     "execution_count": 70,
     "metadata": {},
     "output_type": "execute_result"
    }
   ],
   "source": [
    "len(G_sorted)"
   ]
  },
  {
   "cell_type": "code",
   "execution_count": 71,
   "metadata": {},
   "outputs": [
    {
     "data": {
      "text/plain": [
       "[('453387', 816),\n",
       " ('162585', 791),\n",
       " ('214951', 648),\n",
       " ('151297', 588),\n",
       " ('326368', 568)]"
      ]
     },
     "execution_count": 71,
     "metadata": {},
     "output_type": "execute_result"
    }
   ],
   "source": [
    "G_sorted[0:5]"
   ]
  },
  {
   "cell_type": "code",
   "execution_count": 78,
   "metadata": {},
   "outputs": [
    {
     "data": {
      "text/plain": [
       "'162585'"
      ]
     },
     "execution_count": 78,
     "metadata": {},
     "output_type": "execute_result"
    }
   ],
   "source": [
    "G_sorted[2][0]"
   ]
  },
  {
   "cell_type": "code",
   "execution_count": 81,
   "metadata": {},
   "outputs": [
    {
     "data": {
      "text/plain": [
       "{'title': 'Smalltalk-80: the language and its implementation',\n",
       " 'journal': '',\n",
       " 'abstract': \"From the Preface (See Front Matter for full Preface) Advances in the design and production of computer hardware have brought many more people into direct contact with computers. Similar advances in the design and production of computer software are required in order that this increased contact be as rewarding as possible. The Smalltalk-80 system is a result of a decade of research into creating computer software that is appropriate for producing highly functional and interactive contact with personal computer systems. This book is the first detailed account of the Smalltalk-80 system. It is divided into four major parts: Part One -- an overview of the concepts and syntax of the programming language. Part Two -- an annotated and illustrated specification of the system's functionality. Part Three -- an example of the design and implementation of a moderate-size application. Part Four -- a specification of the Smalltalk-80 virtual machine.\"}"
      ]
     },
     "execution_count": 81,
     "metadata": {},
     "output_type": "execute_result"
    }
   ],
   "source": [
    "G.nodes[G_sorted[3][0]]"
   ]
  },
  {
   "cell_type": "code",
   "execution_count": 83,
   "metadata": {},
   "outputs": [
    {
     "data": {
      "text/plain": [
       "\"From the Preface (See Front Matter for full Preface) Advances in the design and production of computer hardware have brought many more people into direct contact with computers. Similar advances in the design and production of computer software are required in order that this increased contact be as rewarding as possible. The Smalltalk-80 system is a result of a decade of research into creating computer software that is appropriate for producing highly functional and interactive contact with personal computer systems. This book is the first detailed account of the Smalltalk-80 system. It is divided into four major parts: Part One -- an overview of the concepts and syntax of the programming language. Part Two -- an annotated and illustrated specification of the system's functionality. Part Three -- an example of the design and implementation of a moderate-size application. Part Four -- a specification of the Smalltalk-80 virtual machine.\""
      ]
     },
     "execution_count": 83,
     "metadata": {},
     "output_type": "execute_result"
    }
   ],
   "source": [
    "G.nodes[G_sorted[3][0]]['abstract']"
   ]
  },
  {
   "cell_type": "code",
   "execution_count": 86,
   "metadata": {},
   "outputs": [
    {
     "data": {
      "text/plain": [
       "WordList(['preface', 'front matter', 'preface', 'advances', 'computer hardware', 'direct contact', 'similar advances', 'computer software', 'smalltalk-80', 'computer software', 'interactive contact', 'personal computer systems', 'smalltalk-80', 'major parts', 'part', 'part', \"system 's functionality\", 'part', 'moderate-size application', 'part', 'smalltalk-80', 'virtual machine'])"
      ]
     },
     "execution_count": 86,
     "metadata": {},
     "output_type": "execute_result"
    }
   ],
   "source": [
    "TextBlob(G.nodes[G_sorted[3][0]]['abstract']).noun_phrases"
   ]
  },
  {
   "cell_type": "code",
   "execution_count": null,
   "metadata": {},
   "outputs": [],
   "source": []
  }
 ],
 "metadata": {
  "kernelspec": {
   "display_name": "Python 3",
   "language": "python",
   "name": "python3"
  },
  "language_info": {
   "codemirror_mode": {
    "name": "ipython",
    "version": 3
   },
   "file_extension": ".py",
   "mimetype": "text/x-python",
   "name": "python",
   "nbconvert_exporter": "python",
   "pygments_lexer": "ipython3",
   "version": "3.7.4"
  }
 },
 "nbformat": 4,
 "nbformat_minor": 2
}
