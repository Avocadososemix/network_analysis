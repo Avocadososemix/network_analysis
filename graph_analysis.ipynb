{
 "cells": [
  {
   "cell_type": "code",
   "execution_count": null,
   "metadata": {},
   "outputs": [],
   "source": [
    "import numpy as np\n",
    "import pandas as pd\n",
    "import networkx as nx\n",
    "import matplotlib.pyplot as plt\n",
    "import os\n",
    "from pathlib import Path as pathlib"
   ]
  },
  {
   "cell_type": "code",
   "execution_count": null,
   "metadata": {},
   "outputs": [],
   "source": [
    "os.path.exists(\"D:\\graphs\\DBLP_citation_test.txt\")\n",
    " \n",
    "test = open(r\"D:\\graphs\\DBLP_citation_test.txt\", 'r') \n",
    "test.readlines()[0:25]\n",
    "\n",
    "G = nx.Graph()"
   ]
  },
  {
   "cell_type": "code",
   "execution_count": null,
   "metadata": {},
   "outputs": [],
   "source": [
    "def parse_data():\n",
    "    with open(r'D:\\graphs\\DBLP-citation-Jan8.txt', 'r',  encoding=\"utf8\") as f:\n",
    "        reference={}\n",
    "        readFile = f.readlines()\n",
    "        for line in readFile:\n",
    "            \n",
    "            if '#index' in line:\n",
    "                G.add_node(line[7:].rstrip())\n",
    "                reference['index'] = line[7:].rstrip()\n",
    "                \n",
    "            elif '#*' in line:\n",
    "                reference={}\n",
    "                #G.add_node(reference['index'], title=(line[3:].rstrip()))\n",
    "                reference['title'] = line[3:].rstrip()\n",
    "            elif '#@' in line:\n",
    "                reference['author'] = line[3:].rstrip().rsplit(\";\")\n",
    "            elif '#t' in line:\n",
    "                reference['year'] = line[3:].rstrip()\n",
    "            elif '#c' in line:\n",
    "                reference['venue'] = line[3:].rstrip()\n",
    "            elif '#%' in line:\n",
    "                G.add_edge(reference['index'], line[2:].rstrip())\n",
    "            elif '#!' in line:\n",
    "                reference['abstract'] = line[3:].rstrip()"
   ]
  },
  {
   "cell_type": "code",
   "execution_count": null,
   "metadata": {},
   "outputs": [],
   "source": [
    "data = pd.DataFrame(parse_data(), columns =('index', 'id', 'title', 'author',\n",
    "                                            'year', \n",
    "                                  'venue', 'citations', 'abstract'))"
   ]
  },
  {
   "cell_type": "code",
   "execution_count": null,
   "metadata": {},
   "outputs": [],
   "source": [
    "print(G.number_of_nodes(), 'nodes')\n",
    "print(G.size(), 'edges')"
   ]
  }
 ],
 "metadata": {
  "kernelspec": {
   "display_name": "Python 3",
   "language": "python",
   "name": "python3"
  },
  "language_info": {
   "codemirror_mode": {
    "name": "ipython",
    "version": 3
   },
   "file_extension": ".py",
   "mimetype": "text/x-python",
   "name": "python",
   "nbconvert_exporter": "python",
   "pygments_lexer": "ipython3",
   "version": "3.7.4"
  }
 },
 "nbformat": 4,
 "nbformat_minor": 2
}
