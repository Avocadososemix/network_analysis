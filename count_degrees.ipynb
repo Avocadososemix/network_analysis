{
 "cells": [
  {
   "cell_type": "markdown",
   "metadata": {},
   "source": [
    "In this notebook, I experimented with the degree with the nodes. I counted both the in-degree and the out-degree distributions of the nodes in the graph, plotted them and checked how many nodes have both in-degree of 0 and out-degree of 0.\n",
    "\n",
    "Result: more than 430k out of ~600k nodes have no incoming our outgoing edges (their in-degree and out-degree is 0). Maybe we could consider removing these from the data?"
   ]
  },
  {
   "cell_type": "code",
   "execution_count": 27,
   "metadata": {
    "scrolled": true
   },
   "outputs": [],
   "source": [
    "import numpy as np\n",
    "import pandas as pd\n",
    "import networkx as nx\n",
    "import matplotlib.pyplot as plt\n",
    "from collections import Counter"
   ]
  },
  {
   "cell_type": "code",
   "execution_count": 28,
   "metadata": {},
   "outputs": [],
   "source": [
    "G = nx.DiGraph()"
   ]
  },
  {
   "cell_type": "code",
   "execution_count": 3,
   "metadata": {},
   "outputs": [],
   "source": [
    "# copied from graph_analysis script\n",
    "def parse_data():\n",
    "    with open('outputacm.txt', 'r',  encoding=\"utf8\") as f:\n",
    "        reference={}\n",
    "        article_title=''\n",
    "        citations=[]\n",
    "        readFile = f.readlines()\n",
    "        for line in readFile:\n",
    "            \n",
    "            if '#index' in line: # index\n",
    "                G.add_node(line[6:].rstrip())\n",
    "                reference['index'] = line[7:].rstrip()\n",
    "                G.add_node(reference['index'], title=article_title)\n",
    "            elif '#*' in line: # article title\n",
    "                reference['citations'] = citations\n",
    "                try:\n",
    "                    yield reference\n",
    "                except IndexError as e:\n",
    "                    continue\n",
    "                reference={}\n",
    "                citations=[]\n",
    "                title=(line[3:].rstrip())\n",
    "                reference['title'] = line[2:].rstrip()\n",
    "            elif '#@' in line: # authors\n",
    "                reference['author'] = line[2:].rstrip().rsplit(\";\")\n",
    "            elif '#t' in line: # year published\n",
    "                reference['year'] = line[2:].rstrip()\n",
    "            elif '#c' in line: # journal\n",
    "                reference['journal'] = line[2:].rstrip()\n",
    "            elif '#%' in line: # id of cited paper\n",
    "                G.add_edge(reference['index'], line[2:].rstrip())\n",
    "                citations.append(line[2:].rstrip())\n",
    "            elif '#!' in line: # abstract\n",
    "                reference['abstract'] = line[2:].rstrip()"
   ]
  },
  {
   "cell_type": "code",
   "execution_count": 29,
   "metadata": {},
   "outputs": [],
   "source": [
    "data = pd.DataFrame(parse_data(), columns =('index', 'title', 'author', 'year', 'journal', 'citations', 'abstract'))"
   ]
  },
  {
   "cell_type": "code",
   "execution_count": 34,
   "metadata": {},
   "outputs": [
    {
     "name": "stdout",
     "output_type": "stream",
     "text": [
      "Name: \n",
      "Type: DiGraph\n",
      "Number of nodes: 210423\n",
      "Number of edges: 632634\n",
      "Average in degree:   3.0065\n",
      "Average out degree:   3.0065\n"
     ]
    }
   ],
   "source": [
    "# average in-degree and out-degree is the same\n",
    "print(nx.info(G))"
   ]
  },
  {
   "cell_type": "code",
   "execution_count": 6,
   "metadata": {},
   "outputs": [],
   "source": [
    "def get_data_to_plot(graph, degree):\n",
    "    if degree == 'in_degree':\n",
    "        lista = list(dict(graph.in_degree()).values())\n",
    "    elif degree == 'out_degree':\n",
    "        lista = list(dict(graph.out_degree()).values())\n",
    "    x_graph = sorted(set(lista))\n",
    "    value_counts = Counter(lista)\n",
    "    y_graph = []\n",
    "    for key in sorted(value_counts):\n",
    "        y_graph.append(value_counts[key])\n",
    "    return x_graph, y_graph"
   ]
  },
  {
   "cell_type": "code",
   "execution_count": 7,
   "metadata": {},
   "outputs": [
    {
     "data": {
      "image/png": "[encoded data removed]",
      "text/plain": [
       "<Figure size 432x288 with 1 Axes>"
      ]
     },
     "metadata": {
      "needs_background": "light"
     },
     "output_type": "display_data"
    }
   ],
   "source": [
    "# plot the in-degree of the graph\n",
    "\n",
    "fig, ax = plt.subplots()\n",
    "x_graph, y_graph = get_data_to_plot(G, 'in_degree')\n",
    "#ax.loglog(x_graph, y_graph, color='b', label='G(1226, {})'.format(0.01))\n",
    "ax.plot(x_graph, y_graph, color='b')\n",
    "plt.show()"
   ]
  },
  {
   "cell_type": "code",
   "execution_count": 8,
   "metadata": {},
   "outputs": [
    {
     "data": {
      "image/png": "[encoded data removed]",
      "text/plain": [
       "<Figure size 432x288 with 1 Axes>"
      ]
     },
     "metadata": {
      "needs_background": "light"
     },
     "output_type": "display_data"
    }
   ],
   "source": [
    "# plot the out-degree of the graph\n",
    "\n",
    "fig, ax = plt.subplots()\n",
    "x_graph, y_graph = get_data_to_plot(G, 'out_degree')\n",
    "#ax.loglog(x_graph, y_graph, color='b', label='G(1226, {})'.format(0.01))\n",
    "ax.plot(x_graph, y_graph, color='b')\n",
    "plt.show()"
   ]
  },
  {
   "cell_type": "code",
   "execution_count": 9,
   "metadata": {},
   "outputs": [
    {
     "name": "stdout",
     "output_type": "stream",
     "text": [
      "0 492981\n",
      "1 68379\n",
      "2 26905\n",
      "3 14245\n",
      "4 8581\n",
      "5 5756\n",
      "6 4080\n",
      "7 2987\n",
      "8 2302\n",
      "9 1963\n",
      "10 1568\n",
      "11 1238\n",
      "12 1008\n",
      "13 859\n",
      "14 732\n",
      "15 638\n",
      "16 540\n",
      "17 502\n",
      "18 464\n",
      "19 384\n",
      "...\n",
      "565 1\n",
      "588 1\n",
      "645 1\n",
      "791 1\n",
      "814 1\n"
     ]
    }
   ],
   "source": [
    "# distribution of in-degrees of the nodes in the graph\n",
    "# (number of articles referring to each node):\n",
    "in_degrees = [v for n, v in G.in_degree()]\n",
    "\n",
    "# all nodes with in-degree of zero:\n",
    "in_degree_zero = [n for n, v in G.in_degree() if v == 0]\n",
    "\n",
    "in_degree_distribution = Counter(in_degrees)\n",
    "for k, v in sorted(in_degree_distribution.items())[:20]:\n",
    "    print(k, v)\n",
    "print('...')\n",
    "for k, v in sorted(in_degree_distribution.items())[-5:]:\n",
    "    print(k, v)\n",
    "\n",
    "# 493k nodes have an in-degree of 0. Biggest in-degree value: 814"
   ]
  },
  {
   "cell_type": "code",
   "execution_count": 11,
   "metadata": {},
   "outputs": [
    {
     "name": "stdout",
     "output_type": "stream",
     "text": [
      "0 567208\n",
      "1 7707\n",
      "2 7118\n",
      "3 6497\n",
      "4 6028\n",
      "5 5393\n",
      "6 4788\n",
      "7 4373\n",
      "8 3847\n",
      "9 3446\n",
      "10 3055\n",
      "11 2654\n",
      "12 2280\n",
      "13 2055\n",
      "14 1864\n",
      "15 1569\n",
      "16 1422\n",
      "17 1270\n",
      "18 1076\n",
      "19 964\n",
      "...\n",
      "154 1\n",
      "156 1\n",
      "182 1\n",
      "190 1\n",
      "203 1\n"
     ]
    }
   ],
   "source": [
    "out_degrees = [v for n, v in G.out_degree()]\n",
    "\n",
    "# all nodes with out-degree of zero:\n",
    "out_degree_zero = [n for n, v in G.out_degree() if v == 0]\n",
    "\n",
    "out_degree_distribution = Counter(out_degrees)\n",
    "for k, v in sorted(out_degree_distribution.items())[:20]:\n",
    "    print(k, v)\n",
    "print('...')\n",
    "for k, v in sorted(out_degree_distribution.items())[-5:]:\n",
    "    print(k, v)\n",
    "    \n",
    "# 567k nodes have an out-degree of 0. Biggest out-degree value: 203"
   ]
  },
  {
   "cell_type": "code",
   "execution_count": 12,
   "metadata": {},
   "outputs": [
    {
     "name": "stdout",
     "output_type": "stream",
     "text": [
      "430502\n"
     ]
    }
   ],
   "source": [
    "# number of nodes that have both an out-degree of 0 and in-degree of 0:\n",
    "\n",
    "print(len(set(in_degree_zero).intersection(out_degree_zero)))"
   ]
  },
  {
   "cell_type": "code",
   "execution_count": 32,
   "metadata": {},
   "outputs": [],
   "source": [
    "G.remove_nodes_from(set(in_degree_zero).intersection(out_degree_zero))"
   ]
  },
  {
   "cell_type": "code",
   "execution_count": 33,
   "metadata": {},
   "outputs": [
    {
     "name": "stdout",
     "output_type": "stream",
     "text": [
      "210423 nodes\n",
      "199311\n"
     ]
    }
   ],
   "source": [
    "print(G.number_of_nodes(), 'nodes')"
   ]
  },
  {
   "cell_type": "code",
   "execution_count": null,
   "metadata": {},
   "outputs": [],
   "source": [
    "k = 100\n",
    "\n",
    "communities=nx.algorithms.community.centrality.girvan_newman(G)\n",
    "\n",
    "limited = itertools.takewhile(lambda c: len(c) <= k, communities)\n"
   ]
  }
 ],
 "metadata": {
  "kernelspec": {
   "display_name": "Python 3",
   "language": "python",
   "name": "python3"
  },
  "language_info": {
   "codemirror_mode": {
    "name": "ipython",
    "version": 3
   },
   "file_extension": ".py",
   "mimetype": "text/x-python",
   "name": "python",
   "nbconvert_exporter": "python",
   "pygments_lexer": "ipython3",
   "version": "3.7.4"
  }
 },
 "nbformat": 4,
 "nbformat_minor": 4
}
